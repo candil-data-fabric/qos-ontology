{
 "cells": [
  {
   "cell_type": "code",
   "execution_count": 104,
   "id": "2137093c-2a32-48bf-8212-7c2d61b19d51",
   "metadata": {},
   "outputs": [],
   "source": [
    "import rdflib"
   ]
  },
  {
   "cell_type": "markdown",
   "id": "b70320df",
   "metadata": {},
   "source": [
    "Load prefixes"
   ]
  },
  {
   "cell_type": "code",
   "execution_count": 105,
   "id": "4dcaedd4",
   "metadata": {},
   "outputs": [],
   "source": [
    "prefixes = \"\"\"\n",
    "PREFIX dc: <http://purl.org/dc/elements/1.1/>\n",
    "PREFIX mod: <https://w3id.org/mod#>\n",
    "PREFIX owl: <http://www.w3.org/2002/07/owl#>\n",
    "PREFIX rdf: <http://www.w3.org/1999/02/22-rdf-syntax-ns#>\n",
    "PREFIX xml: <http://www.w3.org/XML/1998/namespace>\n",
    "PREFIX xsd: <http://www.w3.org/2001/XMLSchema#>\n",
    "PREFIX foaf: <http://xmlns.com/foaf/0.1/>\n",
    "PREFIX qudt: <http://qudt.org/2.1/schema/qudt/>\n",
    "PREFIX rdfs: <http://www.w3.org/2000/01/rdf-schema#>\n",
    "PREFIX vann: <http://purl.org/vocab/vann/>\n",
    "PREFIX cdqos: <https://w3id.org/candil/qos#>\n",
    "PREFIX dcterms: <http://purl.org/dc/terms/>\n",
    "\"\"\""
   ]
  },
  {
   "cell_type": "markdown",
   "id": "ffc8f357",
   "metadata": {},
   "source": [
    "Load ontology and sample data"
   ]
  },
  {
   "cell_type": "code",
   "execution_count": 106,
   "id": "43c2512d",
   "metadata": {},
   "outputs": [
    {
     "name": "stdout",
     "output_type": "stream",
     "text": [
      "243\n"
     ]
    }
   ],
   "source": [
    "g = rdflib.Graph()\n",
    "g.parse(\"../ontology/ontology.ttl\", format='turtle')\n",
    "g.parse(\"../examples/rdf/chronos-tf-integration.ttl\", format='turtle')\n",
    "print(len(g))"
   ]
  },
  {
   "cell_type": "markdown",
   "id": "70895ad3",
   "metadata": {},
   "source": [
    "## CQ1: What is the application server of the qos session?"
   ]
  },
  {
   "cell_type": "code",
   "execution_count": 107,
   "id": "6787cc78",
   "metadata": {},
   "outputs": [
    {
     "name": "stdout",
     "output_type": "stream",
     "text": [
      "Session: ceb5e725-d8f6-4eb7-abba-a5ce2ce60ace App Server: https://6g-chronos.org/ApplicationServer/192.168.0.1/24\n"
     ]
    }
   ],
   "source": [
    "q_res = g.query(prefixes + \"\"\"\n",
    "    SELECT *\n",
    "    WHERE {\n",
    "        ?session a cdqos:Session ;\n",
    "            dcterms:identifier ?id ;\n",
    "            cdqos:applicationServer ?appServer .\n",
    "    }\n",
    "\"\"\")\n",
    "\n",
    "for row in q_res:\n",
    "    print(f\"Session: {row.id} App Server: {row.appServer}\")"
   ]
  },
  {
   "cell_type": "markdown",
   "id": "1f5107f6",
   "metadata": {},
   "source": [
    "## CQ2: What is the IPv4 and scsAsId of the application server?"
   ]
  },
  {
   "cell_type": "code",
   "execution_count": 108,
   "id": "785b55cc",
   "metadata": {},
   "outputs": [
    {
     "name": "stdout",
     "output_type": "stream",
     "text": [
      "Application Server: https://6g-chronos.org/ApplicationServer/192.168.0.1/24 IPv4 Address: 192.168.0.1/24 SCS/AS Id: myNetapp\n"
     ]
    }
   ],
   "source": [
    "q_res = g.query(prefixes + \"\"\"\n",
    "    SELECT *\n",
    "    WHERE {\n",
    "        ?session a cdqos:Session ;\n",
    "            cdqos:applicationServer ?appServer .\n",
    "        ?appServer cdqos:ipAddress ?address ;\n",
    "            cdqos:scsAsId ?scsAsId .\n",
    "    }\n",
    "\"\"\")\n",
    "\n",
    "for row in q_res:\n",
    "    print(f\"Application Server: {row.appServer} IPv4 Address: {row.address} SCS/AS Id: {row.scsAsId}\")"
   ]
  },
  {
   "cell_type": "markdown",
   "id": "78a4c8b3",
   "metadata": {},
   "source": [
    "## CQ3: What is the duration of the qos session?"
   ]
  },
  {
   "cell_type": "code",
   "execution_count": 109,
   "id": "5bc1f2e3",
   "metadata": {},
   "outputs": [
    {
     "name": "stdout",
     "output_type": "stream",
     "text": [
      "Session: ceb5e725-d8f6-4eb7-abba-a5ce2ce60ace Duration time: 100 Unit: http://qudt.org/vocab/unit/SEC\n"
     ]
    }
   ],
   "source": [
    "q_res = g.query(prefixes + \"\"\"\n",
    "    SELECT *\n",
    "    WHERE {\n",
    "        ?session a cdqos:Session ;\n",
    "            dcterms:identifier ?id ;\n",
    "            cdqos:duration ?duration .\n",
    "        ?duration qudt:numericValue ?value ;\n",
    "            qudt:unit ?unit .\n",
    "    }\n",
    "\"\"\")\n",
    "\n",
    "for row in q_res:\n",
    "    print(f\"Session: {row.id} Duration time: {row.value} Unit: {row.unit}\")"
   ]
  },
  {
   "cell_type": "markdown",
   "id": "cc5ae1a6",
   "metadata": {},
   "source": [
    "## CQ4: What is the user equipment of the qos session?"
   ]
  },
  {
   "cell_type": "code",
   "execution_count": 110,
   "id": "bfa172a4",
   "metadata": {},
   "outputs": [
    {
     "name": "stdout",
     "output_type": "stream",
     "text": [
      "Session: ceb5e725-d8f6-4eb7-abba-a5ce2ce60ace User Equipment: 10.0.0.1\n"
     ]
    }
   ],
   "source": [
    "q_res = g.query(prefixes + \"\"\"\n",
    "    SELECT *\n",
    "    WHERE {\n",
    "        ?session a cdqos:Session ;\n",
    "            dcterms:identifier ?id ;\n",
    "            cdqos:userEquipment ?ue .\n",
    "        ?ue cdqos:ipAddress ?address\n",
    "    }\n",
    "\"\"\")\n",
    "\n",
    "for row in q_res:\n",
    "    print(f\"Session: {row.id} User Equipment: {row.address}\")"
   ]
  },
  {
   "cell_type": "markdown",
   "id": "108a224d",
   "metadata": {},
   "source": [
    "## CQ5: Which qos profile was assigned to the qos session?"
   ]
  },
  {
   "cell_type": "code",
   "execution_count": 111,
   "id": "7391d458",
   "metadata": {},
   "outputs": [
    {
     "name": "stdout",
     "output_type": "stream",
     "text": [
      "Session: ceb5e725-d8f6-4eb7-abba-a5ce2ce60ace QoS Profile: QOS_S\n"
     ]
    }
   ],
   "source": [
    "q_res = g.query(prefixes + \"\"\"\n",
    "    SELECT *\n",
    "    WHERE {\n",
    "        ?session a cdqos:Session ;\n",
    "            dcterms:identifier ?id ;\n",
    "            cdqos:assignedQoSProfile ?profile .\n",
    "        ?profile dcterms:identifier ?profileId .\n",
    "    }\n",
    "\"\"\")\n",
    "\n",
    "for row in q_res:\n",
    "    print(f\"Session: {row.id} QoS Profile: {row.profileId}\")"
   ]
  },
  {
   "cell_type": "markdown",
   "id": "2bc90932",
   "metadata": {},
   "source": [
    "## CQ6: Which network profile maps to the qos profile?"
   ]
  },
  {
   "cell_type": "code",
   "execution_count": 112,
   "id": "1531c323",
   "metadata": {},
   "outputs": [
    {
     "name": "stdout",
     "output_type": "stream",
     "text": [
      "Session: ceb5e725-d8f6-4eb7-abba-a5ce2ce60ace QoS Profile: QOS_S Network Profile: 1\n"
     ]
    }
   ],
   "source": [
    "q_res = g.query(prefixes + \"\"\"\n",
    "    SELECT *\n",
    "    WHERE {\n",
    "        ?session a cdqos:Session ;\n",
    "            dcterms:identifier ?id ;\n",
    "            cdqos:assignedQoSProfile ?qosProfile .\n",
    "        ?qosProfile cdqos:mapsToNetworkProfile ?networkProfile ;\n",
    "            dcterms:identifier ?qosProfileId .\n",
    "        ?networkProfile dcterms:identifier ?networkProfileId .\n",
    "    }\n",
    "\"\"\")\n",
    "\n",
    "for row in q_res:\n",
    "    print(f\"Session: {row.id} QoS Profile: {row.qosProfileId} Network Profile: {row.networkProfileId}\")"
   ]
  },
  {
   "cell_type": "markdown",
   "id": "0e3bac60",
   "metadata": {},
   "source": [
    "## CQ7: Which network profile is used by the network slice?"
   ]
  },
  {
   "cell_type": "code",
   "execution_count": 113,
   "id": "cf25a686",
   "metadata": {},
   "outputs": [
    {
     "name": "stdout",
     "output_type": "stream",
     "text": [
      "Network Slice: slice_medium_performance_2 Network Profile: 1\n",
      "Network Slice: slice_medium_performance_6 Network Profile: 1\n",
      "Network Slice: slice_medium_performance_10 Network Profile: 1\n",
      "Network Slice: slice_medium_performance_14 Network Profile: 1\n",
      "Network Slice: slice_medium_performance_18 Network Profile: 1\n",
      "Network Slice: slice_medium_performance_22 Network Profile: 1\n"
     ]
    }
   ],
   "source": [
    "q_res = g.query(prefixes + \"\"\"\n",
    "    SELECT *\n",
    "    WHERE {\n",
    "        ?slice a cdqos:NetworkSlice ;\n",
    "            dcterms:identifier ?id ;\n",
    "            cdqos:usesNetworkProfile ?networkProfile .\n",
    "        ?networkProfile dcterms:identifier ?networkProfileId .\n",
    "    }\n",
    "\"\"\")\n",
    "\n",
    "for row in q_res:\n",
    "    print(f\"Network Slice: {row.id} Network Profile: {row.networkProfileId}\")"
   ]
  },
  {
   "cell_type": "markdown",
   "id": "81d67c2c",
   "metadata": {},
   "source": [
    "## CQ8: Which 5QI are mapped to the network profile?"
   ]
  },
  {
   "cell_type": "code",
   "execution_count": 114,
   "id": "ee2626d5",
   "metadata": {},
   "outputs": [
    {
     "name": "stdout",
     "output_type": "stream",
     "text": [
      "5QI: 2 Network Profile: 1\n",
      "5QI: 27 Network Profile: 1\n",
      "5QI: 1 Network Profile: 1\n",
      "5QI: 8 Network Profile: 1\n",
      "5QI: 1 Network Profile: 1\n",
      "5QI: 8 Network Profile: 1\n"
     ]
    }
   ],
   "source": [
    "q_res = g.query(prefixes + \"\"\"\n",
    "    SELECT *\n",
    "    WHERE {\n",
    "\n",
    "        ?networkProfile a cdqos:NetworkProfile ;\n",
    "            dcterms:identifier ?networkProfileId .\n",
    "        ?networkSlice a cdqos:NetworkSlice ;\n",
    "            cdqos:usesNetworkProfile ?networkProfile ;\n",
    "            cdqos:5qi ?5qi .\n",
    "        ?5qi dcterms:identifier ?qId .\n",
    "    }\n",
    "\"\"\")\n",
    "\n",
    "for row in q_res:\n",
    "    print(f\"5QI: {row.qId} Network Profile: {row.networkProfileId}\")"
   ]
  },
  {
   "cell_type": "markdown",
   "id": "bb86b508",
   "metadata": {},
   "source": [
    "## CQ9: What is the MBR downlink of a network slice?"
   ]
  },
  {
   "cell_type": "code",
   "execution_count": 115,
   "id": "6dcfd430",
   "metadata": {},
   "outputs": [
    {
     "name": "stdout",
     "output_type": "stream",
     "text": [
      "Network Slice: slice_medium_performance_2 MBR Downlink: 55 Unit: http://qudt.org/vocab/unit/MegaBIT-PER-SEC\n",
      "Network Slice: slice_medium_performance_6 MBR Downlink: 55 Unit: http://qudt.org/vocab/unit/MegaBIT-PER-SEC\n",
      "Network Slice: slice_medium_performance_10 MBR Downlink: 55 Unit: http://qudt.org/vocab/unit/MegaBIT-PER-SEC\n",
      "Network Slice: slice_medium_performance_14 MBR Downlink: 55 Unit: http://qudt.org/vocab/unit/MegaBIT-PER-SEC\n",
      "Network Slice: slice_medium_performance_18 MBR Downlink: 55 Unit: http://qudt.org/vocab/unit/MegaBIT-PER-SEC\n",
      "Network Slice: slice_medium_performance_22 MBR Downlink: 55 Unit: http://qudt.org/vocab/unit/MegaBIT-PER-SEC\n"
     ]
    }
   ],
   "source": [
    "q_res = g.query(prefixes + \"\"\"\n",
    "    SELECT *\n",
    "    WHERE {\n",
    "        ?networkSlice a cdqos:NetworkSlice ;\n",
    "            dcterms:identifier ?id ;\n",
    "            cdqos:mbrDownlink ?mbrDownlink .\n",
    "        ?mbrDownlink qudt:numericValue ?value ;\n",
    "            qudt:unit ?unit .\n",
    "    }\n",
    "\"\"\")\n",
    "\n",
    "for row in q_res:\n",
    "    print(f\"Network Slice: {row.id} MBR Downlink: {row.value} Unit: {row.unit}\")"
   ]
  },
  {
   "cell_type": "markdown",
   "id": "8cccb42d",
   "metadata": {},
   "source": [
    "## CQ10: What is the MBR uplink of a network slice?"
   ]
  },
  {
   "cell_type": "code",
   "execution_count": 116,
   "id": "1557b9d4",
   "metadata": {},
   "outputs": [
    {
     "name": "stdout",
     "output_type": "stream",
     "text": [
      "Network Slice: slice_medium_performance_2 MBR Uplink: 22 Unit: http://qudt.org/vocab/unit/MegaBIT-PER-SEC\n",
      "Network Slice: slice_medium_performance_6 MBR Uplink: 25 Unit: http://qudt.org/vocab/unit/MegaBIT-PER-SEC\n",
      "Network Slice: slice_medium_performance_10 MBR Uplink: 25 Unit: http://qudt.org/vocab/unit/MegaBIT-PER-SEC\n",
      "Network Slice: slice_medium_performance_14 MBR Uplink: 25 Unit: http://qudt.org/vocab/unit/MegaBIT-PER-SEC\n",
      "Network Slice: slice_medium_performance_18 MBR Uplink: 25 Unit: http://qudt.org/vocab/unit/MegaBIT-PER-SEC\n",
      "Network Slice: slice_medium_performance_22 MBR Uplink: 25 Unit: http://qudt.org/vocab/unit/MegaBIT-PER-SEC\n"
     ]
    }
   ],
   "source": [
    "q_res = g.query(prefixes + \"\"\"\n",
    "    SELECT *\n",
    "    WHERE {\n",
    "        ?networkSlice a cdqos:NetworkSlice ;\n",
    "            dcterms:identifier ?id ;\n",
    "            cdqos:mbrUplink ?mbrUplink .\n",
    "        ?mbrUplink qudt:numericValue ?value ;\n",
    "            qudt:unit ?unit .\n",
    "    }\n",
    "\"\"\")\n",
    "\n",
    "for row in q_res:\n",
    "    print(f\"Network Slice: {row.id} MBR Uplink: {row.value} Unit: {row.unit}\")"
   ]
  }
 ],
 "metadata": {
  "kernelspec": {
   "display_name": ".venv",
   "language": "python",
   "name": "python3"
  },
  "language_info": {
   "codemirror_mode": {
    "name": "ipython",
    "version": 3
   },
   "file_extension": ".py",
   "mimetype": "text/x-python",
   "name": "python",
   "nbconvert_exporter": "python",
   "pygments_lexer": "ipython3",
   "version": "3.10.4"
  }
 },
 "nbformat": 4,
 "nbformat_minor": 5
}
